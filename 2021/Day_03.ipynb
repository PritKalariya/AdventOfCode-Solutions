{
 "cells": [
  {
   "cell_type": "markdown",
   "metadata": {},
   "source": [
    "## Day 3"
   ]
  },
  {
   "cell_type": "code",
   "execution_count": 1,
   "metadata": {},
   "outputs": [],
   "source": [
    "with open('Inputs/input_03.txt') as f:\n",
    "    input = f.read().strip().split('\\n')"
   ]
  },
  {
   "cell_type": "markdown",
   "metadata": {},
   "source": [
    "## Part 1"
   ]
  },
  {
   "cell_type": "code",
   "execution_count": 2,
   "metadata": {},
   "outputs": [],
   "source": [
    "def get_bit_count(lines, position):\n",
    "    zero_count,one_count = 0,0\n",
    "    for line in lines:\n",
    "        if line[position] == '0':\n",
    "            zero_count += 1\n",
    "        elif line[position] == '1':\n",
    "            one_count += 1\n",
    "    return zero_count, one_count"
   ]
  },
  {
   "cell_type": "code",
   "execution_count": 3,
   "metadata": {},
   "outputs": [],
   "source": [
    "def convert_decimal(string):\n",
    "    return int(string, base=2)"
   ]
  },
  {
   "cell_type": "code",
   "execution_count": 4,
   "metadata": {},
   "outputs": [],
   "source": [
    "def switch(string):\n",
    "    return string.translate(str.maketrans({'0': '1', '1': '0'}))"
   ]
  },
  {
   "cell_type": "code",
   "execution_count": 5,
   "metadata": {},
   "outputs": [
    {
     "data": {
      "text/plain": [
       "2250414"
      ]
     },
     "execution_count": 5,
     "metadata": {},
     "output_type": "execute_result"
    }
   ],
   "source": [
    "gamma_rate = ''\n",
    "for position in range(len(input[0])):\n",
    "    zero_count, one_count = get_bit_count(input, position)\n",
    "    gamma_rate += '1' if one_count > zero_count else '0'\n",
    "\n",
    "epsilon_rate = switch(gamma_rate)\n",
    "power_consumption = convert_decimal(gamma_rate) * convert_decimal(epsilon_rate)\n",
    "power_consumption"
   ]
  },
  {
   "cell_type": "markdown",
   "metadata": {},
   "source": [
    "## Part 2"
   ]
  },
  {
   "cell_type": "code",
   "execution_count": 6,
   "metadata": {},
   "outputs": [],
   "source": [
    "def calculate(lines, value1, value2):\n",
    "    position = 0\n",
    "    while len(lines) > 1:\n",
    "        zero_count, one_count = get_bit_count(lines, position)\n",
    "        value_to_consider = value1 if one_count >= zero_count else value2\n",
    "        lines = [i for i in lines if i[position] == value_to_consider]\n",
    "        position += 1\n",
    "    return lines[0]"
   ]
  },
  {
   "cell_type": "code",
   "execution_count": 7,
   "metadata": {},
   "outputs": [
    {
     "name": "stdout",
     "output_type": "stream",
     "text": [
      "6085575\n"
     ]
    }
   ],
   "source": [
    "oxygen = calculate(input, '1', '0')\n",
    "CO2 = calculate(input, '0', '1')\n",
    "\n",
    "print(convert_decimal(oxygen) * convert_decimal(CO2))"
   ]
  }
 ],
 "metadata": {
  "interpreter": {
   "hash": "8b03d4cd05d71d535371b426da57de743181e37d8974a9636efe6e78873daaed"
  },
  "kernelspec": {
   "display_name": "Python 3.9.4 64-bit",
   "language": "python",
   "name": "python3"
  },
  "language_info": {
   "codemirror_mode": {
    "name": "ipython",
    "version": 3
   },
   "file_extension": ".py",
   "mimetype": "text/x-python",
   "name": "python",
   "nbconvert_exporter": "python",
   "pygments_lexer": "ipython3",
   "version": "3.9.4"
  },
  "orig_nbformat": 4
 },
 "nbformat": 4,
 "nbformat_minor": 2
}
