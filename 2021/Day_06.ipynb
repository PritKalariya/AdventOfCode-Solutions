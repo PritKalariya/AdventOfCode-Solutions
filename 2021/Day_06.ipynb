{
 "cells": [
  {
   "cell_type": "markdown",
   "metadata": {},
   "source": [
    "## Day 6"
   ]
  },
  {
   "cell_type": "code",
   "execution_count": 1,
   "metadata": {},
   "outputs": [],
   "source": [
    "with open('Inputs/input_06.txt') as f:\n",
    "    input = f.read().strip().split(\",\")\n",
    "    time = [int(i) for i in input]"
   ]
  },
  {
   "cell_type": "markdown",
   "metadata": {},
   "source": [
    "## Part 1"
   ]
  },
  {
   "cell_type": "code",
   "execution_count": 2,
   "metadata": {},
   "outputs": [],
   "source": [
    "days = 80\n",
    "\n",
    "for _ in range(days):\n",
    "    n = len(time)\n",
    "    for i in range(n):\n",
    "        if time[i] == 0:\n",
    "            time[i] = 6\n",
    "            time.append(8)\n",
    "        else:\n",
    "            time[i] -= 1"
   ]
  },
  {
   "cell_type": "code",
   "execution_count": 3,
   "metadata": {},
   "outputs": [
    {
     "name": "stdout",
     "output_type": "stream",
     "text": [
      "388739\n"
     ]
    }
   ],
   "source": [
    "ans = len(time)\n",
    "print(ans)"
   ]
  },
  {
   "cell_type": "markdown",
   "metadata": {},
   "source": [
    "## Part 2"
   ]
  },
  {
   "cell_type": "code",
   "execution_count": 4,
   "metadata": {},
   "outputs": [],
   "source": [
    "# Trying a different method.\n",
    "# Part 2 requires you to optimize your soutions from part 1.\n",
    "\n",
    "from collections import defaultdict\n",
    "from pprint import pprint\n",
    "\n",
    "with open(\"Inputs/input_06.txt\") as f:\n",
    "    input = f.read().strip().split(\",\")\n",
    "    freq = defaultdict(int)\n",
    "    for i in input:\n",
    "        freq[int(i)] += 1"
   ]
  },
  {
   "cell_type": "code",
   "execution_count": 5,
   "metadata": {},
   "outputs": [],
   "source": [
    "days = 256\n",
    "\n",
    "for _ in range(days):\n",
    "    # New dict to store frequencies\n",
    "    new_freq = defaultdict(int)\n",
    "\n",
    "    for key in freq:\n",
    "        if key == 0:\n",
    "            new_freq[6] += freq[key]\n",
    "            new_freq[8] = freq[key]\n",
    "        else:\n",
    "            new_freq[key - 1] += freq[key]\n",
    "\n",
    "    freq = new_freq"
   ]
  },
  {
   "cell_type": "code",
   "execution_count": 6,
   "metadata": {},
   "outputs": [
    {
     "name": "stdout",
     "output_type": "stream",
     "text": [
      "1741362314973\n"
     ]
    }
   ],
   "source": [
    "ans = 0\n",
    "# pprint(freq)\n",
    "for key in freq:\n",
    "    ans += freq[key]\n",
    "print(ans)"
   ]
  }
 ],
 "metadata": {
  "interpreter": {
   "hash": "8b03d4cd05d71d535371b426da57de743181e37d8974a9636efe6e78873daaed"
  },
  "kernelspec": {
   "display_name": "Python 3.9.4 64-bit",
   "language": "python",
   "name": "python3"
  },
  "language_info": {
   "codemirror_mode": {
    "name": "ipython",
    "version": 3
   },
   "file_extension": ".py",
   "mimetype": "text/x-python",
   "name": "python",
   "nbconvert_exporter": "python",
   "pygments_lexer": "ipython3",
   "version": "3.9.4"
  },
  "orig_nbformat": 4
 },
 "nbformat": 4,
 "nbformat_minor": 2
}
