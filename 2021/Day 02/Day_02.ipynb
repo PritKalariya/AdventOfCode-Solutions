{
  "cells": [
    {
      "cell_type": "markdown",
      "metadata": {},
      "source": [
        "## Day 2"
      ]
    },
    {
      "cell_type": "code",
      "execution_count": 1,
      "metadata": {},
      "outputs": [],
      "source": [
        "with open ('../Inputs/input_02.txt') as f:\n",
        "    input = f.readlines()"
      ]
    },
    {
      "cell_type": "markdown",
      "metadata": {},
      "source": [
        "## Part 1"
      ]
    },
    {
      "cell_type": "code",
      "execution_count": 2,
      "metadata": {},
      "outputs": [],
      "source": [
        "horizontal = 0\n",
        "dept = 0\n",
        "\n",
        "for direction in input:\n",
        "    direction, unit = direction.split()\n",
        "    unit = int(unit)\n",
        "\n",
        "    if direction == 'forward':\n",
        "        horizontal += unit\n",
        "    elif direction == 'down':\n",
        "        dept += unit\n",
        "    elif direction == 'up':\n",
        "        dept -= unit\n"
      ]
    },
    {
      "cell_type": "code",
      "execution_count": 3,
      "metadata": {},
      "outputs": [
        {
          "name": "stdout",
          "output_type": "stream",
          "text": [
            "1947824\n"
          ]
        }
      ],
      "source": [
        "print(horizontal*dept)"
      ]
    },
    {
      "cell_type": "markdown",
      "metadata": {},
      "source": [
        "## Part 2"
      ]
    },
    {
      "cell_type": "code",
      "execution_count": 4,
      "metadata": {},
      "outputs": [],
      "source": [
        "horizontal = 0\n",
        "dept = 0\n",
        "aim = 0\n",
        "\n",
        "for direction in input:\n",
        "    direction, unit = direction.split()\n",
        "    unit = int(unit)\n",
        "\n",
        "    if direction == 'forward':\n",
        "        horizontal += unit\n",
        "        dept += unit*aim\n",
        "    elif direction == 'down':\n",
        "        aim += unit\n",
        "    elif direction == 'up':\n",
        "        aim -= unit"
      ]
    },
    {
      "cell_type": "code",
      "execution_count": 5,
      "metadata": {},
      "outputs": [
        {
          "name": "stdout",
          "output_type": "stream",
          "text": [
            "1813062561\n"
          ]
        }
      ],
      "source": [
        "print(horizontal*dept)"
      ]
    }
  ],
  "metadata": {
    "anaconda-cloud": {},
    "kernelspec": {
      "display_name": "Python 3",
      "language": "python",
      "name": "python3"
    },
    "language_info": {
      "codemirror_mode": {
        "name": "ipython",
        "version": 3
      },
      "file_extension": ".py",
      "mimetype": "text/x-python",
      "name": "python",
      "nbconvert_exporter": "python",
      "pygments_lexer": "ipython3",
      "version": "3.9.4"
    }
  },
  "nbformat": 4,
  "nbformat_minor": 4
}
