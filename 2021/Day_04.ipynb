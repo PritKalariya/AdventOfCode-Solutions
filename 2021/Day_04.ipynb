{
 "cells": [
  {
   "cell_type": "markdown",
   "metadata": {},
   "source": [
    "## Day 4"
   ]
  },
  {
   "cell_type": "code",
   "execution_count": 1,
   "metadata": {},
   "outputs": [],
   "source": [
    "with open(\"Inputs/input_04.txt\") as fin:\n",
    "    data = fin.read().strip().split(\"\\n\")\n",
    "\n",
    "nums = [int(i) for i in data[0].split(\",\")]"
   ]
  },
  {
   "cell_type": "markdown",
   "metadata": {},
   "source": [
    "## Part 1"
   ]
  },
  {
   "cell_type": "code",
   "execution_count": 2,
   "metadata": {},
   "outputs": [],
   "source": [
    "import re"
   ]
  },
  {
   "cell_type": "code",
   "execution_count": 3,
   "metadata": {},
   "outputs": [],
   "source": [
    "class Board:\n",
    "    # Implement boards as a class\n",
    "    def __init__(self, nums):\n",
    "        self.board = [\n",
    "            [[nums[i][j], False] for j in range(5)]\n",
    "            for i in range(5)\n",
    "        ]\n",
    "\n",
    "\n",
    "    def __str__(self):\n",
    "        \"\"\"\n",
    "        For debugging purpose only.\n",
    "        \"\"\"\n",
    "        res = ''\n",
    "        for row in self.board:\n",
    "            for el in row:\n",
    "                num = str(el[0].rjust(3))\n",
    "                if el[1]:\n",
    "                    res += f\"{Back.WHITE}{Fore.BLACK}{num}{Style.RESET_ALL} \"\n",
    "                else:\n",
    "                    res += f\"{num} \"\n",
    "            res += \"\\n\"\n",
    "\n",
    "        return res[:-1]\n",
    "\n",
    "\n",
    "    def mark(self, num):\n",
    "        for row in self.board:\n",
    "            for el in row:\n",
    "                if el[0] == num:\n",
    "                    el[1] = True\n",
    "\n",
    "\n",
    "    def detect_win(self):\n",
    "        for row in range(5):\n",
    "            if all([self.board[row][i][1] for i in range(5)]):\n",
    "                return True\n",
    "\n",
    "        for col in range(5):\n",
    "            if all([self.board[i][col][1] for i in range(5)]):\n",
    "                return True\n",
    "\n",
    "        return False\n",
    "\n",
    "\n",
    "    def get_score(self, last_called):\n",
    "        uncalled_sum = 0\n",
    "        for row in range(5):\n",
    "            for col in range(5):\n",
    "                if not self.board[row][col][1]:\n",
    "                    uncalled_sum += self.board[row][col][0]\n",
    "\n",
    "        return uncalled_sum * last_called"
   ]
  },
  {
   "cell_type": "code",
   "execution_count": 4,
   "metadata": {},
   "outputs": [],
   "source": [
    "def parse_board(lines):\n",
    "    \"\"\"\n",
    "    lines: a list of 5 strings\n",
    "    \"\"\"\n",
    "    return [[int(i) for i in re.split(\" +\", line.strip())] for line in lines]"
   ]
  },
  {
   "cell_type": "code",
   "execution_count": 5,
   "metadata": {},
   "outputs": [],
   "source": [
    "boards = []\n",
    "i = 2\n",
    "while i < len(data):\n",
    "    x = parse_board(data[i:i+5])\n",
    "    boards.append(Board(x))\n",
    "    i += 6"
   ]
  },
  {
   "cell_type": "code",
   "execution_count": 6,
   "metadata": {},
   "outputs": [],
   "source": [
    "# Run the simulation!\n",
    "ans = None\n",
    "for x in nums:\n",
    "    for b in boards:\n",
    "        b.mark(x)\n",
    "    for b in boards:\n",
    "        if b.detect_win():\n",
    "            ans = b.get_score(x)\n",
    "            break\n",
    "\n",
    "    if ans != None:\n",
    "        break"
   ]
  },
  {
   "cell_type": "code",
   "execution_count": 7,
   "metadata": {},
   "outputs": [
    {
     "data": {
      "text/plain": [
       "35711"
      ]
     },
     "execution_count": 7,
     "metadata": {},
     "output_type": "execute_result"
    }
   ],
   "source": [
    "ans"
   ]
  },
  {
   "cell_type": "markdown",
   "metadata": {},
   "source": [
    "## Part 2"
   ]
  },
  {
   "cell_type": "code",
   "execution_count": 8,
   "metadata": {},
   "outputs": [],
   "source": [
    "# Run the simulation! But Differently!!\n",
    "winning_order = []\n",
    "for x in nums:\n",
    "    for i in range(len(boards)):\n",
    "        boards[i].mark(x)\n",
    "\n",
    "        if i not in winning_order and boards[i].detect_win():\n",
    "            winning_order.append(i)\n",
    "\n",
    "    # If all the boards are done, break\n",
    "    if len(winning_order) == len(boards):\n",
    "        break\n",
    "\n",
    "# Find the board that wins last\n",
    "ans = boards[winning_order[-1]].get_score(x)"
   ]
  },
  {
   "cell_type": "code",
   "execution_count": 9,
   "metadata": {},
   "outputs": [
    {
     "data": {
      "text/plain": [
       "5586"
      ]
     },
     "execution_count": 9,
     "metadata": {},
     "output_type": "execute_result"
    }
   ],
   "source": [
    "ans"
   ]
  }
 ],
 "metadata": {
  "interpreter": {
   "hash": "8b03d4cd05d71d535371b426da57de743181e37d8974a9636efe6e78873daaed"
  },
  "kernelspec": {
   "display_name": "Python 3.9.4 64-bit",
   "language": "python",
   "name": "python3"
  },
  "language_info": {
   "codemirror_mode": {
    "name": "ipython",
    "version": 3
   },
   "file_extension": ".py",
   "mimetype": "text/x-python",
   "name": "python",
   "nbconvert_exporter": "python",
   "pygments_lexer": "ipython3",
   "version": "3.9.4"
  },
  "orig_nbformat": 4
 },
 "nbformat": 4,
 "nbformat_minor": 2
}
